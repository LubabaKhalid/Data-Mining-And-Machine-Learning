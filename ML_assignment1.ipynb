{
 "cells": [
  {
   "cell_type": "code",
   "execution_count": 4,
   "id": "d6c0a65c-96c1-4a5b-93a4-8cc02f4fdc6f",
   "metadata": {},
   "outputs": [
    {
     "name": "stdout",
     "output_type": "stream",
     "text": [
      "Titanic Dataset:\n",
      "   pclass  survived                                             name     sex  \\\n",
      "0     1.0       1.0                    Allen, Miss. Elisabeth Walton  female   \n",
      "1     1.0       1.0                   Allison, Master. Hudson Trevor    male   \n",
      "2     1.0       0.0                     Allison, Miss. Helen Loraine  female   \n",
      "3     1.0       0.0             Allison, Mr. Hudson Joshua Creighton    male   \n",
      "4     1.0       0.0  Allison, Mrs. Hudson J C (Bessie Waldo Daniels)  female   \n",
      "\n",
      "       age  sibsp  parch  ticket      fare    cabin embarked boat   body  \\\n",
      "0  29.0000    0.0    0.0   24160  211.3375       B5        S    2    NaN   \n",
      "1   0.9167    1.0    2.0  113781  151.5500  C22 C26        S   11    NaN   \n",
      "2   2.0000    1.0    2.0  113781  151.5500  C22 C26        S  NaN    NaN   \n",
      "3  30.0000    1.0    2.0  113781  151.5500  C22 C26        S  NaN  135.0   \n",
      "4  25.0000    1.0    2.0  113781  151.5500  C22 C26        S  NaN    NaN   \n",
      "\n",
      "                         home.dest  \n",
      "0                     St Louis, MO  \n",
      "1  Montreal, PQ / Chesterville, ON  \n",
      "2  Montreal, PQ / Chesterville, ON  \n",
      "3  Montreal, PQ / Chesterville, ON  \n",
      "4  Montreal, PQ / Chesterville, ON  \n",
      "\n",
      "Aug_test Dataset:\n",
      "   enrollee_id      city  city_development_index  gender  \\\n",
      "0        32403   city_41                   0.827    Male   \n",
      "1         9858  city_103                   0.920  Female   \n",
      "2        31806   city_21                   0.624    Male   \n",
      "3        27385   city_13                   0.827    Male   \n",
      "4        27724  city_103                   0.920    Male   \n",
      "\n",
      "       relevent_experience enrolled_university education_level  \\\n",
      "0  Has relevent experience    Full time course        Graduate   \n",
      "1  Has relevent experience       no_enrollment        Graduate   \n",
      "2   No relevent experience       no_enrollment     High School   \n",
      "3  Has relevent experience       no_enrollment         Masters   \n",
      "4  Has relevent experience       no_enrollment        Graduate   \n",
      "\n",
      "  major_discipline experience company_size company_type last_new_job  \\\n",
      "0             STEM          9          <10          NaN            1   \n",
      "1             STEM          5          NaN      Pvt Ltd            1   \n",
      "2              NaN         <1          NaN      Pvt Ltd        never   \n",
      "3             STEM         11        10/49      Pvt Ltd            1   \n",
      "4             STEM        >20       10000+      Pvt Ltd           >4   \n",
      "\n",
      "   training_hours  \n",
      "0              21  \n",
      "1              98  \n",
      "2              15  \n",
      "3              39  \n",
      "4              72  \n",
      "\n",
      "Housing Prices Dataset:\n",
      "      price  area  bedrooms  bathrooms  stories mainroad guestroom basement  \\\n",
      "0  13300000  7420         4          2        3      yes        no       no   \n",
      "1  12250000  8960         4          4        4      yes        no       no   \n",
      "2  12250000  9960         3          2        2      yes        no      yes   \n",
      "3  12215000  7500         4          2        2      yes        no      yes   \n",
      "4  11410000  7420         4          1        2      yes       yes      yes   \n",
      "\n",
      "  hotwaterheating airconditioning  parking prefarea furnishingstatus  \n",
      "0              no             yes        2      yes        furnished  \n",
      "1              no             yes        3       no        furnished  \n",
      "2              no              no        2      yes   semi-furnished  \n",
      "3              no             yes        3      yes        furnished  \n",
      "4              no             yes        2       no        furnished  \n"
     ]
    }
   ],
   "source": [
    "import pandas as pd\n",
    "\n",
    "titanic_data = pd.read_csv('titanic3.csv')\n",
    "aug_test_data = pd.read_csv('aug_test.csv')\n",
    "housing_data = pd.read_csv('housing_prices.csv')\n",
    "\n",
    "print(\"Titanic Dataset:\")\n",
    "print(titanic_data.head())\n",
    "print(\"\\nAug_test Dataset:\")\n",
    "print(aug_test_data.head())\n",
    "print(\"\\nHousing Prices Dataset:\")\n",
    "print(housing_data.head())\n"
   ]
  },
  {
   "cell_type": "code",
   "execution_count": 5,
   "id": "fe53a8b8-21a0-4de7-90e8-8e047dad9b18",
   "metadata": {},
   "outputs": [
    {
     "name": "stdout",
     "output_type": "stream",
     "text": [
      "Titanic Missing Values:\n",
      "pclass          1\n",
      "survived        1\n",
      "name            1\n",
      "sex             1\n",
      "age           264\n",
      "sibsp           1\n",
      "parch           1\n",
      "ticket          1\n",
      "fare            2\n",
      "cabin        1015\n",
      "embarked        3\n",
      "boat          824\n",
      "body         1189\n",
      "home.dest     565\n",
      "dtype: int64\n",
      "\n",
      "Aug_test Missing Values:\n",
      "enrollee_id                 0\n",
      "city                        0\n",
      "city_development_index      0\n",
      "gender                    508\n",
      "relevent_experience         0\n",
      "enrolled_university        31\n",
      "education_level            52\n",
      "major_discipline          312\n",
      "experience                  5\n",
      "company_size              622\n",
      "company_type              634\n",
      "last_new_job               40\n",
      "training_hours              0\n",
      "dtype: int64\n",
      "\n",
      "Housing Prices Missing Values:\n",
      "price               0\n",
      "area                0\n",
      "bedrooms            0\n",
      "bathrooms           0\n",
      "stories             0\n",
      "mainroad            0\n",
      "guestroom           0\n",
      "basement            0\n",
      "hotwaterheating     0\n",
      "airconditioning     0\n",
      "parking             0\n",
      "prefarea            0\n",
      "furnishingstatus    0\n",
      "dtype: int64\n"
     ]
    }
   ],
   "source": [
    "\n",
    "print(\"Titanic Missing Values:\")\n",
    "print(titanic_data.isnull().sum())\n",
    "print(\"\\nAug_test Missing Values:\")\n",
    "print(aug_test_data.isnull().sum())\n",
    "print(\"\\nHousing Prices Missing Values:\")\n",
    "print(housing_data.isnull().sum())\n"
   ]
  },
  {
   "cell_type": "code",
   "execution_count": 6,
   "id": "c6a69a63-317d-4573-bacf-1c49c2cc17ba",
   "metadata": {},
   "outputs": [
    {
     "name": "stdout",
     "output_type": "stream",
     "text": [
      "Titanic dataset missing values after preprocessing:\n",
      "pclass      1\n",
      "survived    1\n",
      "name        1\n",
      "sex         1\n",
      "age         0\n",
      "sibsp       1\n",
      "parch       1\n",
      "ticket      1\n",
      "fare        0\n",
      "embarked    0\n",
      "dtype: int64\n",
      "\n",
      "Aug_test dataset missing values after preprocessing:\n",
      "enrollee_id               0\n",
      "city                      0\n",
      "city_development_index    0\n",
      "gender                    0\n",
      "relevent_experience       0\n",
      "enrolled_university       0\n",
      "education_level           0\n",
      "major_discipline          0\n",
      "experience                0\n",
      "company_size              0\n",
      "company_type              0\n",
      "last_new_job              0\n",
      "training_hours            0\n",
      "dtype: int64\n",
      "\n",
      "Housing Prices dataset missing values after preprocessing:\n",
      "price               0\n",
      "area                0\n",
      "bedrooms            0\n",
      "bathrooms           0\n",
      "stories             0\n",
      "mainroad            0\n",
      "guestroom           0\n",
      "basement            0\n",
      "hotwaterheating     0\n",
      "airconditioning     0\n",
      "parking             0\n",
      "prefarea            0\n",
      "furnishingstatus    0\n",
      "dtype: int64\n"
     ]
    }
   ],
   "source": [
    "import pandas as pd\n",
    "\n",
    "titanic_data = pd.read_csv('titanic3.csv')\n",
    "aug_test_data = pd.read_csv('aug_test.csv')\n",
    "housing_data = pd.read_csv('housing_prices.csv')\n",
    "titanic_data['age'] = titanic_data['age'].fillna(titanic_data['age'].median())\n",
    "titanic_data['fare'] = titanic_data['fare'].fillna(titanic_data['fare'].median())\n",
    "titanic_data['embarked'] = titanic_data['embarked'].fillna(titanic_data['embarked'].mode()[0])\n",
    "titanic_data = titanic_data.drop(['cabin', 'boat', 'body', 'home.dest'], axis=1)\n",
    "aug_test_data['gender'] = aug_test_data['gender'].fillna(aug_test_data['gender'].mode()[0])\n",
    "aug_test_data['enrolled_university'] = aug_test_data['enrolled_university'].fillna(aug_test_data['enrolled_university'].mode()[0])\n",
    "aug_test_data['education_level'] = aug_test_data['education_level'].fillna(aug_test_data['education_level'].mode()[0])\n",
    "aug_test_data['major_discipline'] = aug_test_data['major_discipline'].fillna(aug_test_data['major_discipline'].mode()[0])\n",
    "aug_test_data['experience'] = aug_test_data['experience'].fillna(aug_test_data['experience'].mode()[0])\n",
    "aug_test_data['company_size'] = aug_test_data['company_size'].fillna(aug_test_data['company_size'].mode()[0])\n",
    "aug_test_data['company_type'] = aug_test_data['company_type'].fillna(aug_test_data['company_type'].mode()[0])\n",
    "aug_test_data['last_new_job'] = aug_test_data['last_new_job'].fillna(aug_test_data['last_new_job'].mode()[0])\n",
    "print(\"Titanic dataset missing values after preprocessing:\")\n",
    "print(titanic_data.isnull().sum())\n",
    "\n",
    "print(\"\\nAug_test dataset missing values after preprocessing:\")\n",
    "print(aug_test_data.isnull().sum())\n",
    "\n",
    "print(\"\\nHousing Prices dataset missing values after preprocessing:\")\n",
    "print(housing_data.isnull().sum())\n"
   ]
  },
  {
   "cell_type": "code",
   "execution_count": 11,
   "id": "6e5f5314-d3ae-478f-a165-efb36bf9958d",
   "metadata": {},
   "outputs": [
    {
     "name": "stdout",
     "output_type": "stream",
     "text": [
      "Scaled Titanic Data (first 5 rows):\n",
      "        age      fare\n",
      "0 -0.038931  3.444003\n",
      "1 -2.216698  2.287674\n",
      "2 -2.132692  2.287674\n",
      "3  0.038615  2.287674\n",
      "4 -0.349118  2.287674\n",
      "\n",
      "Scaled Housing Data (first 5 rows):\n",
      "   bedrooms  bathrooms   parking\n",
      "0  1.403419   1.421812  1.517692\n",
      "1  1.403419   5.405809  2.679409\n",
      "2  0.047278   1.421812  1.517692\n",
      "3  1.403419   1.421812  2.679409\n",
      "4  1.403419  -0.570187  1.517692\n",
      "\n",
      "Titanic dataset split:\n",
      "X_train_titanic: (1048, 9), X_test_titanic: (262, 9)\n",
      "y_train_titanic: (1048,), y_test_titanic: (262,)\n",
      "\n",
      "Housing dataset split:\n",
      "X_train_housing: (436, 12), X_test_housing: (109, 12)\n",
      "y_train_housing: (436,), y_test_housing: (109,)\n"
     ]
    }
   ],
   "source": [
    "from sklearn.preprocessing import StandardScaler\n",
    "from sklearn.model_selection import train_test_split\n",
    "\n",
    "\n",
    "scaler = StandardScaler()\n",
    "\n",
    "\n",
    "titanic_data[['age', 'fare']] = scaler.fit_transform(titanic_data[['age', 'fare']])\n",
    "\n",
    "\n",
    "numerical_columns = ['bedrooms', 'bathrooms', 'parking']  # Example numerical columns\n",
    "housing_data[numerical_columns] = scaler.fit_transform(housing_data[numerical_columns])\n",
    "\n",
    "print(\"Scaled Titanic Data (first 5 rows):\")\n",
    "print(titanic_data[['age', 'fare']].head())\n",
    "\n",
    "print(\"\\nScaled Housing Data (first 5 rows):\")\n",
    "print(housing_data[numerical_columns].head())\n",
    "\n",
    "X_titanic = titanic_data.drop('survived', axis=1)\n",
    "y_titanic = titanic_data['survived']\n",
    "X_train_titanic, X_test_titanic, y_train_titanic, y_test_titanic = train_test_split(X_titanic, y_titanic, test_size=0.2, random_state=42)\n",
    "\n",
    "X_housing = housing_data.drop('price', axis=1)\n",
    "y_housing = housing_data['price']\n",
    "X_train_housing, X_test_housing, y_train_housing, y_test_housing = train_test_split(X_housing, y_housing, test_size=0.2, random_state=42)\n",
    "\n",
    "print(\"\\nTitanic dataset split:\")\n",
    "print(f\"X_train_titanic: {X_train_titanic.shape}, X_test_titanic: {X_test_titanic.shape}\")\n",
    "print(f\"y_train_titanic: {y_train_titanic.shape}, y_test_titanic: {y_test_titanic.shape}\")\n",
    "\n",
    "print(\"\\nHousing dataset split:\")\n",
    "print(f\"X_train_housing: {X_train_housing.shape}, X_test_housing: {X_test_housing.shape}\")\n",
    "print(f\"y_train_housing: {y_train_housing.shape}, y_test_housing: {y_test_housing.shape}\")\n"
   ]
  },
  {
   "cell_type": "code",
   "execution_count": 12,
   "id": "05540700-a129-4ca7-a7dd-009425a316e7",
   "metadata": {},
   "outputs": [],
   "source": [
    "from sklearn.preprocessing import OneHotEncoder\n",
    "\n",
    "encoder = OneHotEncoder(handle_unknown='ignore', sparse_output=False)\n",
    "\n",
    "#\n",
    "X_titanic = titanic_data.drop('survived', axis=1)\n",
    "y_titanic = titanic_data['survived']\n",
    "X_train_titanic, X_test_titanic, y_train_titanic, y_test_titanic = train_test_split(X_titanic, y_titanic, test_size=0.2, random_state=42)\n",
    "\n",
    "X_train_encoded = encoder.fit_transform(X_train_titanic[['sex', 'embarked']])\n",
    "X_test_encoded = encoder.transform(X_test_titanic[['sex', 'embarked']])\n",
    "\n",
    "X_train_titanic = X_train_titanic.drop(['sex', 'embarked'], axis=1)\n",
    "X_test_titanic = X_test_titanic.drop(['sex', 'embarked'], axis=1)\n",
    "\n",
    "\n",
    "encoded_columns = encoder.get_feature_names_out(['sex', 'embarked'])\n",
    "X_train_encoded_df = pd.DataFrame(X_train_encoded, columns=encoded_columns, index=X_train_titanic.index)\n",
    "X_test_encoded_df = pd.DataFrame(X_test_encoded, columns=encoded_columns, index=X_test_titanic.index)\n",
    "\n",
    "X_train_titanic_final = pd.concat([X_train_titanic, X_train_encoded_df], axis=1)\n",
    "X_test_titanic_final = pd.concat([X_test_titanic, X_test_encoded_df], axis=1)\n"
   ]
  },
  {
   "cell_type": "code",
   "execution_count": 13,
   "id": "08690719-1254-4f2d-88bf-cab36389a468",
   "metadata": {},
   "outputs": [],
   "source": [
    "from sklearn.preprocessing import StandardScaler\n",
    "\n",
    "scaler = StandardScaler()\n",
    "\n",
    "\n",
    "X_train_titanic_final[['age', 'fare']] = scaler.fit_transform(X_train_titanic_final[['age', 'fare']])\n",
    "X_test_titanic_final[['age', 'fare']] = scaler.transform(X_test_titanic_final[['age', 'fare']])\n"
   ]
  },
  {
   "cell_type": "code",
   "execution_count": 14,
   "id": "da2536f8-64a5-46d9-a86f-7129a48e1012",
   "metadata": {},
   "outputs": [],
   "source": [
    "\n",
    "X_housing = housing_data.drop('price', axis=1)\n",
    "y_housing = housing_data['price']\n",
    "X_train_housing, X_test_housing, y_train_housing, y_test_housing = train_test_split(X_housing, y_housing, test_size=0.2, random_state=42)\n"
   ]
  },
  {
   "cell_type": "code",
   "execution_count": 15,
   "id": "0eae0617-8fbe-4e74-8696-f5e8d4b2d498",
   "metadata": {},
   "outputs": [
    {
     "name": "stdout",
     "output_type": "stream",
     "text": [
      "age         0\n",
      "fare        0\n",
      "sex         1\n",
      "embarked    0\n",
      "dtype: int64\n"
     ]
    }
   ],
   "source": [
    "print(titanic_data[['age', 'fare', 'sex', 'embarked']].isnull().sum())\n"
   ]
  },
  {
   "cell_type": "code",
   "execution_count": 16,
   "id": "3ead072f-310d-4b2e-ad17-b125dd06835f",
   "metadata": {},
   "outputs": [
    {
     "name": "stdout",
     "output_type": "stream",
     "text": [
      "     sex_female  sex_male  sex_nan  embarked_C  embarked_Q  embarked_S\n",
      "199         1.0       0.0      0.0         1.0         0.0         0.0\n",
      "303         0.0       1.0      0.0         1.0         0.0         0.0\n",
      "481         1.0       0.0      0.0         1.0         0.0         0.0\n",
      "331         0.0       1.0      0.0         0.0         0.0         1.0\n",
      "10          0.0       1.0      0.0         1.0         0.0         0.0\n"
     ]
    }
   ],
   "source": [
    "print(X_train_encoded_df.head())\n"
   ]
  },
  {
   "cell_type": "code",
   "execution_count": 17,
   "id": "7454256b-69ab-4932-bfbd-83507dcd4dbd",
   "metadata": {},
   "outputs": [
    {
     "name": "stdout",
     "output_type": "stream",
     "text": [
      "                age          fare\n",
      "count  1.048000e+03  1.048000e+03\n",
      "mean  -2.881495e-17  1.694997e-17\n",
      "std    1.000477e+00  1.000477e+00\n",
      "min   -2.266412e+00 -6.430804e-01\n",
      "25%   -5.713757e-01 -4.906253e-01\n",
      "50%   -1.055634e-01 -3.639933e-01\n",
      "75%    4.378843e-01 -4.319334e-02\n",
      "max    3.931477e+00  9.249163e+00\n"
     ]
    }
   ],
   "source": [
    "print(X_train_titanic_final[['age', 'fare']].describe())\n"
   ]
  },
  {
   "cell_type": "code",
   "execution_count": 18,
   "id": "2eaa12d7-900a-43ca-8d90-7c5e90ecc6b2",
   "metadata": {},
   "outputs": [
    {
     "name": "stdout",
     "output_type": "stream",
     "text": [
      "0\n"
     ]
    }
   ],
   "source": [
    "print(aug_test_data.isnull().sum().sum())\n"
   ]
  },
  {
   "cell_type": "code",
   "execution_count": 19,
   "id": "6c8c045d-b86e-457f-8464-36d395ee3664",
   "metadata": {},
   "outputs": [
    {
     "name": "stdout",
     "output_type": "stream",
     "text": [
      "0\n"
     ]
    }
   ],
   "source": [
    "print(housing_data.isnull().sum().sum())\n"
   ]
  },
  {
   "cell_type": "code",
   "execution_count": null,
   "id": "a42e0b48-7f4f-4db1-b64a-be83f59df52b",
   "metadata": {},
   "outputs": [],
   "source": []
  }
 ],
 "metadata": {
  "kernelspec": {
   "display_name": "Python 3 (ipykernel)",
   "language": "python",
   "name": "python3"
  },
  "language_info": {
   "codemirror_mode": {
    "name": "ipython",
    "version": 3
   },
   "file_extension": ".py",
   "mimetype": "text/x-python",
   "name": "python",
   "nbconvert_exporter": "python",
   "pygments_lexer": "ipython3",
   "version": "3.13.2"
  }
 },
 "nbformat": 4,
 "nbformat_minor": 5
}
