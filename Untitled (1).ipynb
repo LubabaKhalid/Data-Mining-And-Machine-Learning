{
 "cells": [
  {
   "cell_type": "code",
   "execution_count": 11,
   "id": "8c64c02a-57e9-47b2-8657-b21aca13a2e6",
   "metadata": {},
   "outputs": [],
   "source": [
    "import numpy as np\n",
    "import pandas as pd\n",
    "from sklearn.datasets import make_regression\n",
    "from sklearn.model_selection import train_test_split\n",
    "X, y = make_regression(n_samples=100, n_features=10, noise=0.1, random_state=42)\n",
    "X = pd.DataFrame(X, columns=[f\"Feature{i}\" for i in range(1, 11)])\n",
    "X_train, X_test, y_train, y_test = train_test_split(X, y, test_size=0.2, random_state=42)\n"
   ]
  },
  {
   "cell_type": "code",
   "execution_count": 12,
   "id": "0828f233-d6c2-4dc5-86e3-6e565fc86595",
   "metadata": {},
   "outputs": [
    {
     "name": "stdout",
     "output_type": "stream",
     "text": [
      "R²: 0.9999959187316214\n",
      "Adjusted R²: 1.0000016498744508\n",
      "Mean Squared Error: 0.24391771328706482\n"
     ]
    }
   ],
   "source": [
    "from sklearn.preprocessing import PolynomialFeatures\n",
    "from sklearn.linear_model import LinearRegression\n",
    "from sklearn.metrics import r2_score, mean_squared_error\n",
    "\n",
    "poly = PolynomialFeatures(degree=2)\n",
    "X_train_poly = poly.fit_transform(X_train)\n",
    "X_test_poly = poly.transform(X_test)\n",
    "\n",
    "model = LinearRegression()\n",
    "model.fit(X_train_poly, y_train)\n",
    "\n",
    "y_pred = model.predict(X_test_poly)\n",
    "\n",
    "r2 = r2_score(y_test, y_pred)\n",
    "mse = mean_squared_error(y_test, y_pred)\n",
    "adj_r2 = 1 - (1 - r2) * (len(y_test) - 1) / (len(y_test) - X_test_poly.shape[1] - 1)\n",
    "\n",
    "print(f\"R²: {r2}\")\n",
    "print(f\"Adjusted R²: {adj_r2}\")\n",
    "print(f\"Mean Squared Error: {mse}\")\n"
   ]
  },
  {
   "cell_type": "code",
   "execution_count": 15,
   "id": "2c502d75-bc33-4335-8d99-25615a53aeea",
   "metadata": {},
   "outputs": [
    {
     "ename": "AttributeError",
     "evalue": "'numpy.ndarray' object has no attribute 'index'",
     "output_type": "error",
     "traceback": [
      "\u001b[1;31m---------------------------------------------------------------------------\u001b[0m",
      "\u001b[1;31mAttributeError\u001b[0m                            Traceback (most recent call last)",
      "Cell \u001b[1;32mIn[15], line 7\u001b[0m\n\u001b[0;32m      3\u001b[0m model \u001b[38;5;241m=\u001b[39m sm\u001b[38;5;241m.\u001b[39mOLS(y_train, X_train_const)\u001b[38;5;241m.\u001b[39mfit()\n\u001b[0;32m      4\u001b[0m model_summary \u001b[38;5;241m=\u001b[39m model\u001b[38;5;241m.\u001b[39msummary()\n\u001b[1;32m----> 7\u001b[0m selected_features \u001b[38;5;241m=\u001b[39m \u001b[43mmodel\u001b[49m\u001b[38;5;241;43m.\u001b[39;49m\u001b[43mpvalues\u001b[49m\u001b[43m[\u001b[49m\u001b[43mmodel\u001b[49m\u001b[38;5;241;43m.\u001b[39;49m\u001b[43mpvalues\u001b[49m\u001b[43m \u001b[49m\u001b[38;5;241;43m<\u001b[39;49m\u001b[43m \u001b[49m\u001b[38;5;241;43m0.05\u001b[39;49m\u001b[43m]\u001b[49m\u001b[38;5;241;43m.\u001b[39;49m\u001b[43mindex\u001b[49m\n\u001b[0;32m      8\u001b[0m \u001b[38;5;28mprint\u001b[39m(\u001b[38;5;124mf\u001b[39m\u001b[38;5;124m\"\u001b[39m\u001b[38;5;124mSelected Features: \u001b[39m\u001b[38;5;132;01m{\u001b[39;00mselected_features\u001b[38;5;132;01m}\u001b[39;00m\u001b[38;5;124m\"\u001b[39m)\n",
      "\u001b[1;31mAttributeError\u001b[0m: 'numpy.ndarray' object has no attribute 'index'"
     ]
    }
   ],
   "source": [
    "import statsmodels.api as sm\n",
    "X_train_const = sm.add_constant(X_train_poly)\n",
    "model = sm.OLS(y_train, X_train_const).fit()\n",
    "model_summary = model.summary()\n",
    "\n",
    "\n",
    "selected_features = model.pvalues[model.pvalues < 0.05].index\n",
    "print(f\"Selected Features: {selected_features}\")\n"
   ]
  },
  {
   "cell_type": "code",
   "execution_count": 6,
   "id": "4efdf130-790c-4b1c-87e3-0a5b87434840",
   "metadata": {},
   "outputs": [
    {
     "name": "stdout",
     "output_type": "stream",
     "text": [
      "Selected Features: ['Feature4', 'Feature5', 'Feature6', 'Feature7', 'Feature10']\n"
     ]
    }
   ],
   "source": [
    "from sklearn.feature_selection import RFE\n",
    "from sklearn.linear_model import LinearRegression\n",
    "from sklearn.preprocessing import PolynomialFeatures\n",
    "\n",
    "# Create the model\n",
    "model = LinearRegression()\n",
    "\n",
    "poly = PolynomialFeatures(degree=2)\n",
    "X_train_poly = poly.fit_transform(X_train)  \n",
    "X_test_poly = poly.transform(X_test)\n",
    "\n",
    "selector = RFE(model, n_features_to_select=5)  \n",
    "selector = selector.fit(X_train_poly, y_train)\n",
    "\n",
    "selected_indices = selector.support_\n",
    "\n",
    "poly_feature_names = poly.get_feature_names_out(X_train.columns)\n",
    "\n",
    "selected_features_rfe = [poly_feature_names[i] for i in range(len(poly_feature_names)) if selected_indices[i]]\n",
    "\n",
    "print(f\"Selected Features: {selected_features_rfe}\")\n"
   ]
  },
  {
   "cell_type": "code",
   "execution_count": 7,
   "id": "d5de2fd0-10e0-4210-a504-118b84552edb",
   "metadata": {},
   "outputs": [
    {
     "name": "stdout",
     "output_type": "stream",
     "text": [
      "R² with all features: 0.9999959187316214\n",
      "Adjusted R² with all features: 1.0000016498744508\n"
     ]
    }
   ],
   "source": [
    "X_train_all = X_train_poly\n",
    "X_test_all = X_test_poly\n",
    "\n",
    "model.fit(X_train_all, y_train)\n",
    "\n",
    "y_pred_all = model.predict(X_test_all)\n",
    "\n",
    "r2_all = r2_score(y_test, y_pred_all)\n",
    "adj_r2_all = 1 - (1 - r2_all) * (len(y_test) - 1) / (len(y_test) - X_test_all.shape[1] - 1)\n",
    "\n",
    "print(f\"R² with all features: {r2_all}\")\n",
    "print(f\"Adjusted R² with all features: {adj_r2_all}\")\n"
   ]
  },
  {
   "cell_type": "code",
   "execution_count": 10,
   "id": "16cac8c6-92a4-4e83-9628-dfaaa04949a3",
   "metadata": {},
   "outputs": [
    {
     "name": "stdout",
     "output_type": "stream",
     "text": [
      "Model with Backward Elimination:\n",
      "R²: 0.9297741789657031\n",
      "Adjusted R²: 0.9046935285963114\n",
      "Mean Squared Error: 4197.058387549051\n",
      "\n",
      "Model with Forward Selection:\n",
      "R²: 0.9297741789657031\n",
      "Adjusted R²: 0.9046935285963114\n",
      "Mean Squared Error: 4197.058387549051\n",
      "\n",
      "Model with Bidirectional Selection:\n",
      "R²: 0.9297741789657031\n",
      "Adjusted R²: 0.9046935285963114\n",
      "Mean Squared Error: 4197.058387549051\n",
      "\n",
      "Model with All Variables:\n",
      "R²: 0.9999959187316214\n",
      "Adjusted R²: 1.0000016498744508\n",
      "Mean Squared Error: 0.24391771328706482\n"
     ]
    }
   ],
   "source": [
    "from sklearn.feature_selection import RFE\n",
    "from sklearn.linear_model import LinearRegression\n",
    "from sklearn.model_selection import train_test_split\n",
    "from sklearn.preprocessing import PolynomialFeatures\n",
    "from sklearn.metrics import r2_score, mean_squared_error\n",
    "\n",
    "X_train, X_test, y_train, y_test = train_test_split(X, y, test_size=0.2, random_state=42)\n",
    "\n",
    "poly = PolynomialFeatures(degree=2)\n",
    "X_train_poly = poly.fit_transform(X_train)\n",
    "X_test_poly = poly.transform(X_test)\n",
    "\n",
    "model = LinearRegression()\n",
    "\n",
    "rfe = RFE(estimator=model, n_features_to_select=5)\n",
    "rfe.fit(X_train_poly, y_train)\n",
    "\n",
    "X_train_backward = X_train_poly[:, rfe.support_]\n",
    "X_test_backward = X_test_poly[:, rfe.support_]\n",
    "\n",
    "rfe_forward = RFE(estimator=model, n_features_to_select=5)\n",
    "rfe_forward.fit(X_train_poly, y_train)\n",
    "\n",
    "X_train_forward = X_train_poly[:, rfe_forward.support_]\n",
    "X_test_forward = X_test_poly[:, rfe_forward.support_]\n",
    "\n",
    "rfe_bidirectional = RFE(estimator=model, n_features_to_select=5)\n",
    "rfe_bidirectional.fit(X_train_poly, y_train)\n",
    "\n",
    "X_train_bidirectional = X_train_poly[:, rfe_bidirectional.support_]\n",
    "X_test_bidirectional = X_test_poly[:, rfe_bidirectional.support_]\n",
    "\n",
    "X_train_all = X_train_poly\n",
    "X_test_all = X_test_poly\n",
    "\n",
    "def evaluate_model(X_train, X_test, y_train, y_test):\n",
    "    model.fit(X_train, y_train)\n",
    "    y_pred = model.predict(X_test)\n",
    "    r2 = r2_score(y_test, y_pred)\n",
    "    adj_r2 = 1 - (1 - r2) * (len(y_test) - 1) / (len(y_test) - X_test.shape[1] - 1)\n",
    "    mse = mean_squared_error(y_test, y_pred)\n",
    "    return r2, adj_r2, mse\n",
    "\n",
    "print(\"Model with Backward Elimination:\")\n",
    "r2_backward, adj_r2_backward, mse_backward = evaluate_model(X_train_backward, X_test_backward, y_train, y_test)\n",
    "print(f\"R²: {r2_backward}\")\n",
    "print(f\"Adjusted R²: {adj_r2_backward}\")\n",
    "print(f\"Mean Squared Error: {mse_backward}\")\n",
    "\n",
    "print(\"\\nModel with Forward Selection:\")\n",
    "r2_forward, adj_r2_forward, mse_forward = evaluate_model(X_train_forward, X_test_forward, y_train, y_test)\n",
    "print(f\"R²: {r2_forward}\")\n",
    "print(f\"Adjusted R²: {adj_r2_forward}\")\n",
    "print(f\"Mean Squared Error: {mse_forward}\")\n",
    "\n",
    "print(\"\\nModel with Bidirectional Selection:\")\n",
    "r2_bidirectional, adj_r2_bidirectional, mse_bidirectional = evaluate_model(X_train_bidirectional, X_test_bidirectional, y_train, y_test)\n",
    "print(f\"R²: {r2_bidirectional}\")\n",
    "print(f\"Adjusted R²: {adj_r2_bidirectional}\")\n",
    "print(f\"Mean Squared Error: {mse_bidirectional}\")\n",
    "\n",
    "print(\"\\nModel with All Variables:\")\n",
    "r2_all, adj_r2_all, mse_all = evaluate_model(X_train_all, X_test_all, y_train, y_test)\n",
    "print(f\"R²: {r2_all}\")\n",
    "print(f\"Adjusted R²: {adj_r2_all}\")\n",
    "print(f\"Mean Squared Error: {mse_all}\")\n"
   ]
  },
  {
   "cell_type": "code",
   "execution_count": null,
   "id": "a3e93c2b-19e7-4c0f-a436-8e41ef9464e8",
   "metadata": {},
   "outputs": [],
   "source": []
  }
 ],
 "metadata": {
  "kernelspec": {
   "display_name": "Python 3 (ipykernel)",
   "language": "python",
   "name": "python3"
  },
  "language_info": {
   "codemirror_mode": {
    "name": "ipython",
    "version": 3
   },
   "file_extension": ".py",
   "mimetype": "text/x-python",
   "name": "python",
   "nbconvert_exporter": "python",
   "pygments_lexer": "ipython3",
   "version": "3.13.2"
  }
 },
 "nbformat": 4,
 "nbformat_minor": 5
}
